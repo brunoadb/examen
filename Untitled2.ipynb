{
  "nbformat": 4,
  "nbformat_minor": 0,
  "metadata": {
    "colab": {
      "name": "Untitled2.ipynb",
      "provenance": []
    },
    "kernelspec": {
      "name": "python3",
      "display_name": "Python 3"
    }
  },
  "cells": [
    {
      "cell_type": "code",
      "metadata": {
        "id": "eAMZWjL9jcQF",
        "outputId": "e975826f-7e6b-4e3e-c04b-caf824b6774b",
        "colab": {
          "base_uri": "https://localhost:8080/"
        }
      },
      "source": [
        "#examen \n",
        "#programa 1\n",
        "print(\"programa que calcule las raices de ax^2+bx+c=0\")\n",
        "e=-1\n",
        "while e<=0:\n",
        "    a = float(input(\"dame el valor de a: \"))\n",
        "    b = float(input(\"dame el valor de b: \"))\n",
        "    c = float(input(\"dame el valor de c: \"))\n",
        "    e=(b**2)-(4*a*c)\n",
        "    if e>0:\n",
        "       e=((b**2)-(4*a*c)**1/2.0)\n",
        "       x1 = (-b+e)/(2*a)\n",
        "       x2 = (-b-e)/(2*a)\n",
        "       print(\"X1: \", x1)\n",
        "       print(\"X2: \", x2)\n",
        "    else:\n",
        "      print(\"Error el discriminante tiene que ser positivo\")\n",
        "      print(\"Ingrese nuevamente los valores\")"
      ],
      "execution_count": 23,
      "outputs": [
        {
          "output_type": "stream",
          "text": [
            "programa que calcule las raices de ax^2+bx+c=0\n",
            "dame el valor de a: 1\n",
            "dame el valor de b: 5\n",
            "dame el valor de c: -9\n",
            "X1:  19.0\n",
            "X2:  -24.0\n"
          ],
          "name": "stdout"
        }
      ]
    },
    {
      "cell_type": "code",
      "metadata": {
        "id": "EQJyxYNDsoR5",
        "outputId": "d887c442-5251-4832-f7b3-4f9db223bb6a",
        "colab": {
          "base_uri": "https://localhost:8080/"
        }
      },
      "source": [
        "#programa 2\n",
        "print(\"un programa que sea f(x)=x^2+3x+3\")\n",
        "def funcion(x):\n",
        "  x= (x**2)+(3*x)+3\n",
        "  return x\n",
        "\n",
        "x = int(input(\"Ingrese el valor de x:\"))\n",
        "x = funcion(x)\n",
        "print(\"El valor de la funcion es: \",x,)\n",
        "\n",
        "cont = -4\n",
        "while (cont < 4):\n",
        "  cont = cont + 1\n",
        "  x = (cont**2)+(3*cont)+3\n",
        "  print(cont,\"Valor de x:\",x)\n",
        "  if (x > 30):\n",
        "    print(\"Valor maximo de 30\")\n",
        "\n",
        "milista=[3,1,1,3,7,13,21]\n",
        "\n"
      ],
      "execution_count": 32,
      "outputs": [
        {
          "output_type": "stream",
          "text": [
            "un programa que sea f(x)=x^2+3x+3\n",
            "Ingrese el valor de x:6\n",
            "El valor de la funcion es:  57\n",
            "-3 Valor de x: 3\n",
            "-2 Valor de x: 1\n",
            "-1 Valor de x: 1\n",
            "0 Valor de x: 3\n",
            "1 Valor de x: 7\n",
            "2 Valor de x: 13\n",
            "3 Valor de x: 21\n",
            "4 Valor de x: 31\n",
            "Valor maximo de 30\n"
          ],
          "name": "stdout"
        }
      ]
    }
  ]
}